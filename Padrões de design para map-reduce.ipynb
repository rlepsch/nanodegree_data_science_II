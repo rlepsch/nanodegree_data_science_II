{
 "cells": [
  {
   "cell_type": "markdown",
   "metadata": {},
   "source": [
    "## REINALDO LEPSCH NETO - Curso UDACITY - Fundamentos de Data Science II"
   ]
  },
  {
   "cell_type": "markdown",
   "metadata": {},
   "source": [
    "## Semana 4 - aula 7 - Padrões de design para map-reduce"
   ]
  },
  {
   "cell_type": "markdown",
   "metadata": {},
   "source": [
    "### ** Quiz 7. Índice invertido**"
   ]
  },
  {
   "cell_type": "code",
   "execution_count": 1,
   "metadata": {},
   "outputs": [],
   "source": [
    "#importe as bibliotecas que precisar, eu coloquei algumas bibliotecas que acho que você vai precisar.\n",
    "import sys\n",
    "import re\n",
    "import csv\n",
    "\n"
   ]
  },
  {
   "cell_type": "markdown",
   "metadata": {},
   "source": [
    "---- VOU TENTAR A SOLUÇÃO ABAIXO QUE ACHEI NO GITHUB   "
   ]
  },
  {
   "cell_type": "code",
   "execution_count": 2,
   "metadata": {},
   "outputs": [],
   "source": [
    "def mapper():\n",
    "    \n",
    "    reader = csv.reader(sys.stdin, delimiter='\\t')\n",
    "    #cont = 0\n",
    "    \n",
    "    #aqui, line é uma lista de campos separados por tab, do arquivo de entrada\n",
    "    for line in reader:\n",
    "        \n",
    "        #monta words, quebrando em palavras o quinto campo de line[] - corpo do texto\n",
    "        words = re.findall(r\"[\\w']+\", line[4])\n",
    "        \n",
    "        #passa cada palavra de words para minúsculas\n",
    "        words = map(lambda x: x.lower(), words)\n",
    "        \n",
    "        #salva na saída cada palavra e o campo de id\n",
    "        for word in words:          \n",
    "            print (word, '\\t', line[0])\n",
    "            #if word == 'fantastic':\n",
    "            #    cont += 1\n",
    "                \n",
    "    #print(\"fantastic apareceu \", cont, \" vezes\")            \n",
    "                \n",
    "          "
   ]
  },
  {
   "cell_type": "code",
   "execution_count": 3,
   "metadata": {},
   "outputs": [],
   "source": [
    "sys.stdin = open('forum_node.tsv',encoding='utf-8')\n",
    "sys.stdout = open('mapper_result.txt', 'w',encoding='utf-8')\n",
    "mapper()"
   ]
  },
  {
   "cell_type": "markdown",
   "metadata": {},
   "source": [
    "o reducer() abaixo segue a mesma estrutura daqueles feitos na VM"
   ]
  },
  {
   "cell_type": "code",
   "execution_count": 4,
   "metadata": {
    "scrolled": true
   },
   "outputs": [],
   "source": [
    "def reducer():\n",
    "    \n",
    "    old_word = None\n",
    "    doc_ids = []\n",
    "    total_count = 0\n",
    "    \n",
    "    for line in sys.stdin:\n",
    "        data_mapped = line.strip().split(\"\\t\")\n",
    "\n",
    "        current_word, doc_id = data_mapped\n",
    "\n",
    "        if old_word and old_word != current_word:\n",
    "            print (old_word, '\\t', total_count, '\\t', ','.join(doc_ids))\n",
    "            doc_ids = []\n",
    "            total_count = 0\n",
    "\n",
    "        old_word = current_word\n",
    "        doc_ids.append(doc_id)\n",
    "        total_count += 1\n",
    "\n",
    "    if old_word:\n",
    "        print (old_word, '\\t', total_count, '\\t', ','.join(doc_ids))"
   ]
  },
  {
   "cell_type": "code",
   "execution_count": 5,
   "metadata": {},
   "outputs": [],
   "source": [
    "sys.stdin = open('mapper_result.txt',encoding='utf-8')  \n",
    "sys.stdout = open('reducer_result.txt', 'w',encoding='utf-8')\n",
    "reducer()"
   ]
  },
  {
   "cell_type": "code",
   "execution_count": null,
   "metadata": {},
   "outputs": [],
   "source": []
  }
 ],
 "metadata": {
  "kernelspec": {
   "display_name": "Python 3",
   "language": "python",
   "name": "python3"
  },
  "language_info": {
   "codemirror_mode": {
    "name": "ipython",
    "version": 3
   },
   "file_extension": ".py",
   "mimetype": "text/x-python",
   "name": "python",
   "nbconvert_exporter": "python",
   "pygments_lexer": "ipython3",
   "version": "3.6.4"
  }
 },
 "nbformat": 4,
 "nbformat_minor": 2
}
